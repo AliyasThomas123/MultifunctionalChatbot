{
  "nbformat": 4,
  "nbformat_minor": 0,
  "metadata": {
    "colab": {
      "provenance": []
    },
    "kernelspec": {
      "name": "python3",
      "display_name": "Python 3"
    },
    "language_info": {
      "name": "python"
    }
  },
  "cells": [
    {
      "cell_type": "code",
      "execution_count": 39,
      "metadata": {
        "id": "qqLpWJgRg4bh"
      },
      "outputs": [],
      "source": [
        "import torch\n",
        "import torch.nn as nn\n",
        "import torch.optim as optim\n",
        "from torch.utils.data import DataLoader, Dataset\n",
        "import matplotlib.pyplot as plt\n",
        "import numpy as np\n",
        "import random\n",
        "\n",
        "# Constants\n",
        "SEQUENCE_LENGTH = 10\n",
        "\n",
        "DATASET_SIZE = 10000\n",
        "EMBEDDING_DIM = 192  # Matches the expected input size of the LSTM\n",
        "HIDDEN_DIM = 256\n",
        "VOCAB_SIZE = 20\n",
        "\n",
        "LEARNING_RATE = 0.001\n",
        "EPOCHS = 30\n",
        "BATCH_SIZE = 64"
      ]
    },
    {
      "cell_type": "code",
      "source": [
        "# Synthetic Dataset\n",
        "class ReverseSequenceDataset(Dataset):\n",
        "    def __init__(self, size, seq_len, vocab_size):\n",
        "        self.data = [torch.randint(1, vocab_size, (seq_len,)) for _ in range(size)]\n",
        "        self.targets = [seq.flip(0) for seq in self.data]\n",
        "\n",
        "    def __len__(self):\n",
        "        return len(self.data)\n",
        "\n",
        "    def __getitem__(self, idx):\n",
        "        return self.data[idx], self.targets[idx]\n",
        "\n",
        "# Splitting into Train and Test Sets\n",
        "train_size = int(0.8 * DATASET_SIZE)\n",
        "test_size = DATASET_SIZE - train_size\n",
        "dataset = ReverseSequenceDataset(DATASET_SIZE, SEQUENCE_LENGTH, VOCAB_SIZE)\n",
        "train_dataset, test_dataset = torch.utils.data.random_split(dataset, [train_size, test_size])\n",
        "\n",
        "train_loader = DataLoader(train_dataset, batch_size=BATCH_SIZE, shuffle=True)\n",
        "test_loader = DataLoader(test_dataset, batch_size=BATCH_SIZE, shuffle=False)"
      ],
      "metadata": {
        "id": "Dgj1ibdLhDyI"
      },
      "execution_count": 40,
      "outputs": []
    },
    {
      "cell_type": "code",
      "source": [
        "train_dataset[0]"
      ],
      "metadata": {
        "colab": {
          "base_uri": "https://localhost:8080/"
        },
        "id": "RfNR9OQyquj5",
        "outputId": "40cb2f5c-165b-47c5-bd42-91bb15047255"
      },
      "execution_count": 49,
      "outputs": [
        {
          "output_type": "execute_result",
          "data": {
            "text/plain": [
              "(tensor([15, 19, 17, 13, 15,  7, 11, 12, 14, 10]),\n",
              " tensor([10, 14, 12, 11,  7, 15, 13, 17, 19, 15]))"
            ]
          },
          "metadata": {},
          "execution_count": 49
        }
      ]
    },
    {
      "cell_type": "code",
      "source": [
        "test_dataset[0]"
      ],
      "metadata": {
        "colab": {
          "base_uri": "https://localhost:8080/"
        },
        "id": "lUoLYQykq6lK",
        "outputId": "516c9070-3c80-4aa1-cc0c-1be7011b4e25"
      },
      "execution_count": 50,
      "outputs": [
        {
          "output_type": "execute_result",
          "data": {
            "text/plain": [
              "(tensor([ 5,  7, 14,  4,  8,  8, 14, 10, 18,  8]),\n",
              " tensor([ 8, 18, 10, 14,  8,  8,  4, 14,  7,  5]))"
            ]
          },
          "metadata": {},
          "execution_count": 50
        }
      ]
    },
    {
      "cell_type": "code",
      "source": [
        "# Model Components\n",
        "class Encoder(nn.Module):\n",
        "    def __init__(self, vocab_size, embedding_dim, hidden_dim):\n",
        "        super(Encoder, self).__init__()\n",
        "        self.embedding = nn.Embedding(vocab_size, embedding_dim)\n",
        "        self.rnn = nn.LSTM(embedding_dim, hidden_dim, batch_first=True)  # input size is embedding_dim\n",
        "\n",
        "    def forward(self, x):\n",
        "        embedded = self.embedding(x)  # (batch_size, seq_len, embedding_dim)\n",
        "        outputs, (hidden, cell) = self.rnn(embedded)  # Pass to LSTM\n",
        "        return outputs, hidden, cell\n"
      ],
      "metadata": {
        "id": "KYqJxyvOhR03"
      },
      "execution_count": 41,
      "outputs": []
    },
    {
      "cell_type": "code",
      "source": [
        "class Attention(nn.Module):\n",
        "    def __init__(self, hidden_dim):\n",
        "        super(Attention, self).__init__()\n",
        "        self.attn = nn.Linear(hidden_dim, hidden_dim)\n",
        "        self.context = nn.Linear(hidden_dim, 1)\n",
        "\n",
        "    def forward(self, hidden, encoder_outputs):\n",
        "        # hidden: (batch_size, hidden_dim)\n",
        "        # encoder_outputs: (batch_size, seq_len, hidden_dim)\n",
        "        attention_weights = torch.tanh(self.attn(encoder_outputs))  # (batch_size, seq_len, hidden_dim)\n",
        "        attention_weights = self.context(attention_weights)  # (batch_size, seq_len, 1)\n",
        "        attention_weights = torch.softmax(attention_weights, dim=1)  # (batch_size, seq_len, 1)\n",
        "        return attention_weights.squeeze(-1)  # (batch_size, seq_len)\n"
      ],
      "metadata": {
        "id": "DmafiCIkhYry"
      },
      "execution_count": 42,
      "outputs": []
    },
    {
      "cell_type": "code",
      "source": [
        "class Decoder(nn.Module):\n",
        "    def __init__(self, vocab_size, embedding_dim, hidden_dim):\n",
        "        super(Decoder, self).__init__()\n",
        "        self.embedding = nn.Embedding(vocab_size, embedding_dim)\n",
        "        self.rnn = nn.LSTM(embedding_dim + hidden_dim, hidden_dim, batch_first=True)  # Corrected to expect embedding + hidden_dim\n",
        "        self.fc = nn.Linear(hidden_dim, vocab_size)\n",
        "        self.attention = Attention(hidden_dim)\n",
        "\n",
        "    def forward(self, x, hidden, cell, encoder_outputs):\n",
        "        x = x.unsqueeze(1)  # (batch_size, 1)\n",
        "        embedded = self.embedding(x)  # (batch_size, 1, embedding_dim)\n",
        "\n",
        "        # Compute attention weights and context vector\n",
        "        attention_weights = self.attention(hidden[-1], encoder_outputs)  # (batch_size, seq_len)\n",
        "        context = torch.bmm(attention_weights.unsqueeze(1), encoder_outputs)  # (batch_size, 1, hidden_dim)\n",
        "\n",
        "        # Combine embedded input with context vector\n",
        "        rnn_input = torch.cat((embedded, context), dim=2)  # (batch_size, 1, embedding_dim + hidden_dim)\n",
        "\n",
        "        # Pass through LSTM\n",
        "        outputs, (hidden, cell) = self.rnn(rnn_input, (hidden, cell))  # (batch_size, 1, hidden_dim)\n",
        "\n",
        "        predictions = self.fc(outputs.squeeze(1))  # Predict the next token (batch_size, vocab_size)\n",
        "        return predictions, hidden, cell, attention_weights\n",
        "\n",
        "\n"
      ],
      "metadata": {
        "id": "kKJ2JpP2hdda"
      },
      "execution_count": 43,
      "outputs": []
    },
    {
      "cell_type": "code",
      "source": [
        "class Seq2Seq(nn.Module):\n",
        "    def __init__(self, encoder, decoder, device):\n",
        "        super(Seq2Seq, self).__init__()\n",
        "        self.encoder = encoder\n",
        "        self.decoder = decoder\n",
        "        self.device = device\n",
        "\n",
        "    def forward(self, source, target, teacher_forcing_ratio=0.5):\n",
        "        batch_size = source.shape[0]\n",
        "        target_len = target.shape[1]\n",
        "        vocab_size = self.decoder.fc.out_features\n",
        "        outputs = torch.zeros(batch_size, target_len, vocab_size).to(self.device)\n",
        "\n",
        "        encoder_outputs, hidden, cell = self.encoder(source)\n",
        "        x = target[:, 0]\n",
        "        for t in range(1, target_len):\n",
        "            output, hidden, cell, _ = self.decoder(x, hidden, cell, encoder_outputs)\n",
        "            outputs[:, t] = output\n",
        "            teacher_force = random.random() < teacher_forcing_ratio\n",
        "            x = target[:, t] if teacher_force else output.argmax(1)\n",
        "\n",
        "        return outputs"
      ],
      "metadata": {
        "id": "EjqBAANqhhDi"
      },
      "execution_count": 44,
      "outputs": []
    },
    {
      "cell_type": "code",
      "source": [
        "device = torch.device(\"cuda\" if torch.cuda.is_available() else \"cpu\")\n",
        "encoder = Encoder(VOCAB_SIZE, EMBEDDING_DIM, HIDDEN_DIM).to(device)\n",
        "decoder = Decoder(VOCAB_SIZE, EMBEDDING_DIM, HIDDEN_DIM).to(device)\n",
        "model = Seq2Seq(encoder, decoder, device).to(device)\n",
        "\n",
        "# Training Setup\n",
        "optimizer = optim.Adam(model.parameters(), lr=LEARNING_RATE)\n",
        "criterion = nn.CrossEntropyLoss()\n",
        "\n",
        "train_losses = []\n",
        "test_losses = []\n",
        "test_accuracies = []"
      ],
      "metadata": {
        "id": "j-2IX5I1hnMK"
      },
      "execution_count": 45,
      "outputs": []
    },
    {
      "cell_type": "code",
      "source": [
        "def evaluate(loader, model):\n",
        "    model.eval()\n",
        "    total_loss = 0\n",
        "    correct = 0\n",
        "    total = 0\n",
        "    with torch.no_grad():\n",
        "        for source, target in loader:\n",
        "            source, target = source.to(device), target.to(device)\n",
        "            outputs = model(source, target, teacher_forcing_ratio=0)\n",
        "            predictions = outputs.argmax(2)\n",
        "            correct += (predictions[:, 1:] == target[:, 1:]).sum().item()\n",
        "            total += target[:, 1:].numel()\n",
        "            loss = criterion(outputs[:, 1:].reshape(-1, VOCAB_SIZE), target[:, 1:].reshape(-1))\n",
        "            total_loss += loss.item()\n",
        "    return total_loss / len(loader), (correct / total) * 100\n"
      ],
      "metadata": {
        "id": "6vZt_v-BhqxG"
      },
      "execution_count": 46,
      "outputs": []
    },
    {
      "cell_type": "code",
      "source": [
        "# Training Loop\n",
        "for epoch in range(EPOCHS):\n",
        "    model.train()\n",
        "    epoch_loss = 0\n",
        "    for source, target in train_loader:\n",
        "        source, target = source.to(device), target.to(device)\n",
        "        optimizer.zero_grad()\n",
        "        outputs = model(source, target)\n",
        "        loss = criterion(outputs[:, 1:].reshape(-1, VOCAB_SIZE), target[:, 1:].reshape(-1))\n",
        "        loss.backward()\n",
        "        optimizer.step()\n",
        "        epoch_loss += loss.item()\n",
        "\n",
        "    train_losses.append(epoch_loss / len(train_loader))\n",
        "\n",
        "    test_loss, test_accuracy = evaluate(test_loader, model)\n",
        "    test_losses.append(test_loss)\n",
        "    test_accuracies.append(test_accuracy)\n",
        "\n",
        "    print(f\"Epoch {epoch + 1}/{EPOCHS} | Train Loss: {train_losses[-1]:.4f} | Test Loss: {test_loss:.4f} | Test Accuracy: {test_accuracy:.2f}%\")\n",
        "\n",
        "# Plotting Loss and Accuracy\n",
        "plt.figure(figsize=(12, 6))\n",
        "\n",
        "# Plot Train/Test Loss\n",
        "plt.subplot(1, 2, 1)\n",
        "plt.plot(train_losses, label=\"Train Loss\", color=\"blue\")\n",
        "plt.plot(test_losses, label=\"Test Loss\", color=\"red\")\n",
        "plt.xlabel(\"Epoch\")\n",
        "plt.ylabel(\"Loss\")\n",
        "plt.title(\"Loss Curve\")\n",
        "plt.legend()\n",
        "\n",
        "# Plot Test Accuracy\n",
        "plt.subplot(1, 2, 2)\n",
        "plt.plot(test_accuracies, label=\"Test Accuracy\", color=\"green\")\n",
        "plt.xlabel(\"Epoch\")\n",
        "plt.ylabel(\"Accuracy (%)\")\n",
        "plt.title(\"Accuracy Curve\")\n",
        "plt.legend()\n",
        "\n",
        "plt.tight_layout()\n",
        "plt.show()"
      ],
      "metadata": {
        "colab": {
          "base_uri": "https://localhost:8080/",
          "height": 1000
        },
        "id": "k3t5hfg2hu3J",
        "outputId": "84a6b872-00d3-4e9d-f45a-eb63630df622"
      },
      "execution_count": 47,
      "outputs": [
        {
          "output_type": "stream",
          "name": "stdout",
          "text": [
            "Epoch 1/30 | Train Loss: 1.9301 | Test Loss: 1.5479 | Test Accuracy: 36.19%\n",
            "Epoch 2/30 | Train Loss: 1.0617 | Test Loss: 0.8718 | Test Accuracy: 70.48%\n",
            "Epoch 3/30 | Train Loss: 0.4817 | Test Loss: 0.4243 | Test Accuracy: 89.79%\n",
            "Epoch 4/30 | Train Loss: 0.2221 | Test Loss: 0.2346 | Test Accuracy: 95.82%\n",
            "Epoch 5/30 | Train Loss: 0.1100 | Test Loss: 0.1234 | Test Accuracy: 98.56%\n",
            "Epoch 6/30 | Train Loss: 0.0653 | Test Loss: 0.0894 | Test Accuracy: 99.10%\n",
            "Epoch 7/30 | Train Loss: 0.0411 | Test Loss: 0.0715 | Test Accuracy: 99.22%\n",
            "Epoch 8/30 | Train Loss: 0.0264 | Test Loss: 0.0613 | Test Accuracy: 99.33%\n",
            "Epoch 9/30 | Train Loss: 0.0155 | Test Loss: 0.0383 | Test Accuracy: 99.65%\n",
            "Epoch 10/30 | Train Loss: 0.0116 | Test Loss: 0.0564 | Test Accuracy: 99.37%\n",
            "Epoch 11/30 | Train Loss: 0.0102 | Test Loss: 0.0302 | Test Accuracy: 99.74%\n",
            "Epoch 12/30 | Train Loss: 0.0089 | Test Loss: 0.0852 | Test Accuracy: 98.98%\n",
            "Epoch 13/30 | Train Loss: 0.1202 | Test Loss: 0.1122 | Test Accuracy: 98.02%\n",
            "Epoch 14/30 | Train Loss: 0.0371 | Test Loss: 0.0343 | Test Accuracy: 99.69%\n",
            "Epoch 15/30 | Train Loss: 0.0099 | Test Loss: 0.0260 | Test Accuracy: 99.74%\n",
            "Epoch 16/30 | Train Loss: 0.0054 | Test Loss: 0.0147 | Test Accuracy: 99.88%\n",
            "Epoch 17/30 | Train Loss: 0.0035 | Test Loss: 0.0121 | Test Accuracy: 99.92%\n",
            "Epoch 18/30 | Train Loss: 0.0027 | Test Loss: 0.0115 | Test Accuracy: 99.90%\n",
            "Epoch 19/30 | Train Loss: 0.0022 | Test Loss: 0.0119 | Test Accuracy: 99.89%\n",
            "Epoch 20/30 | Train Loss: 0.0019 | Test Loss: 0.0113 | Test Accuracy: 99.89%\n",
            "Epoch 21/30 | Train Loss: 0.0016 | Test Loss: 0.0096 | Test Accuracy: 99.91%\n",
            "Epoch 22/30 | Train Loss: 0.0014 | Test Loss: 0.0095 | Test Accuracy: 99.92%\n",
            "Epoch 23/30 | Train Loss: 0.0012 | Test Loss: 0.0141 | Test Accuracy: 99.88%\n",
            "Epoch 24/30 | Train Loss: 0.0011 | Test Loss: 0.0129 | Test Accuracy: 99.89%\n",
            "Epoch 25/30 | Train Loss: 0.0010 | Test Loss: 0.0129 | Test Accuracy: 99.89%\n",
            "Epoch 26/30 | Train Loss: 0.0009 | Test Loss: 0.0119 | Test Accuracy: 99.90%\n",
            "Epoch 27/30 | Train Loss: 0.0008 | Test Loss: 0.0119 | Test Accuracy: 99.89%\n",
            "Epoch 28/30 | Train Loss: 0.0007 | Test Loss: 0.0124 | Test Accuracy: 99.89%\n",
            "Epoch 29/30 | Train Loss: 0.0006 | Test Loss: 0.0112 | Test Accuracy: 99.91%\n",
            "Epoch 30/30 | Train Loss: 0.0006 | Test Loss: 0.0141 | Test Accuracy: 99.87%\n"
          ]
        },
        {
          "output_type": "display_data",
          "data": {
            "text/plain": [
              "<Figure size 1200x600 with 2 Axes>"
            ],
            "image/png": "[encoded data removed]"
          },
          "metadata": {}
        }
      ]
    }
  ]
}